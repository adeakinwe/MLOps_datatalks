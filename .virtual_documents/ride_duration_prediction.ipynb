get_ipython().getoutput("python3 --version")


import pandas as pd


df = pd.read_parquet('green_tripdata/green_tripdata_2021-01.parquet')


df.head()


df.shape


df.dtypes


duration = (df.lpep_dropoff_datetime - df.lpep_pickup_datetime)
duration


df['duration'] = duration


df['duration'] = df['duration'].apply(lambda td: td.total_seconds()/60)


df.head()


import seaborn as sns
from matplotlib import pyplot as plt


sns.histplot(df['duration'])


df.duration.describe()


((df['duration'] > 1) & (df['duration'] <= 60)).mean()


df = df[((df['duration'] > 1) & (df['duration'] <= 60))]


df


df.duration.describe()


categorical = ['PULocationID','DOLocationID']
numerical = ['trip_distance']


df[categorical] = df[categorical].astype(str)


df.dtypes


from sklearn.feature_extraction import DictVectorizer


train_dicts = df[categorical + numerical].to_dict(orient='records')


dv = DictVectorizer()
X_train = dv.fit_transform(train_dicts)


X_train


dv.feature_names_


y_train = df['duration'].values


y_train


from sklearn.linear_model import LinearRegression, Lasso, Ridge
from sklearn.metrics import mean_squared_error


lr = LinearRegression()
lr.fit(X_train, y_train)


y_pred = lr.predict(X_train)


sns.distplot(y_pred, label='prediction')
sns.distplot(y_train, label='actual')
plt.legend()


def read_dataframe(filename):
    df = pd.read_parquet(filename)
    
    df['duration'] = (df.lpep_dropoff_datetime - df.lpep_pickup_datetime)
    df['duration'] = df['duration'].apply(lambda td: td.total_seconds()/60)
    df = df[((df['duration'] > 1) & (df['duration'] <= 60))]
    
    categorical = ['PULocationID','DOLocationID']
    df[categorical] = df[categorical].astype(str)

    return df


df_train = read_dataframe('green_tripdata/green_tripdata_2021-01.parquet')
df_val = read_dataframe('green_tripdata/green_tripdata_2021-02.parquet')


df_train.shape, df_val.shape


df_train['PU_DO'] = df_train['PULocationID'] + '_' + df_train['DOLocationID']
df_val['PU_DO'] = df_val['PULocationID'] + '_'  +  df_val['DOLocationID']


df_train.head()


categorical = ['PU_DO'] #['PULocationID','DOLocationID']
numerical = ['trip_distance']

dv = DictVectorizer()

train_dicts = df_train[categorical + numerical].to_dict(orient='records')
val_dicts = df_val[categorical + numerical].to_dict(orient='records')

X_train = dv.fit_transform(train_dicts)
X_val = dv.transform(val_dicts)

y_train = df_train['duration'].values
y_val = df_val['duration'].values


lr = LinearRegression()
lr.fit(X_train, y_train)

y_pred = lr.predict(X_val)

mean_squared_error(y_val, y_pred, squared=False)


ls = Lasso(alpha=0.0001)
ls.fit(X_train, y_train)

y_pred = ls.predict(X_val)

mean_squared_error(y_val, y_pred, squared=False)


import pickle


with open('models/lin_reg_green_tripdata.bin', 'wb') as f_out:
    pickle.dump((dv, lr), f_out)
