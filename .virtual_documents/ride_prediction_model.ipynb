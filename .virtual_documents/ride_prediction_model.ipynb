get_ipython().getoutput("python3 --version")


import pandas as pd


df = pd.read_parquet('green_tripdata/green_tripdata_2021-01.parquet')


df.head()


df.shape


df.dtypes


df.lpep_dropoff_datetime - df.lpep_pickup_datetime 


df['duration'] = df.lpep_dropoff_datetime - df.lpep_dropoff_datetime 
