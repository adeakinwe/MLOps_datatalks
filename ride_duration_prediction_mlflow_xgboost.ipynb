{
 "cells": [
  {
   "cell_type": "code",
   "execution_count": 20,
   "id": "b42f25e8-4487-431a-9d3d-f81850f2bb28",
   "metadata": {},
   "outputs": [
    {
     "name": "stdout",
     "output_type": "stream",
     "text": [
      "Python 3.13.2\n"
     ]
    }
   ],
   "source": [
    "!python3 --version"
   ]
  },
  {
   "cell_type": "code",
   "execution_count": 21,
   "id": "9a4e4703-ebdf-4b4b-b19b-a7f9a33d1dd9",
   "metadata": {},
   "outputs": [],
   "source": [
    "import pandas as pd\n",
    "from sklearn.feature_extraction import DictVectorizer\n",
    "from sklearn.linear_model import LinearRegression, Lasso\n",
    "from sklearn.metrics import mean_squared_error\n",
    "import pickle"
   ]
  },
  {
   "cell_type": "code",
   "execution_count": 22,
   "id": "1bbb660f",
   "metadata": {},
   "outputs": [
    {
     "data": {
      "text/plain": [
       "<Experiment: artifact_location='/Users/mac/Projects/MLops_datatalks/mlruns/1', creation_time=1748148094528, experiment_id='1', last_update_time=1748148094528, lifecycle_stage='active', name='nyc_greentaxi_tripdata_experiment', tags={}>"
      ]
     },
     "execution_count": 22,
     "metadata": {},
     "output_type": "execute_result"
    }
   ],
   "source": [
    "import mlflow\n",
    "\n",
    "mlflow.set_tracking_uri('sqlite:///mlflow.db')\n",
    "mlflow.set_experiment('nyc_greentaxi_tripdata_experiment')"
   ]
  },
  {
   "cell_type": "code",
   "execution_count": 23,
   "id": "ed6d9a57-7dbf-4d93-84dc-9282edb6b4ef",
   "metadata": {},
   "outputs": [],
   "source": [
    "def read_dataframe(filename):\n",
    "    df = pd.read_parquet(filename)\n",
    "    \n",
    "    df['duration'] = (df.lpep_dropoff_datetime - df.lpep_pickup_datetime)\n",
    "    df['duration'] = df['duration'].apply(lambda td: td.total_seconds()/60)\n",
    "    df = df[((df['duration'] > 1) & (df['duration'] <= 60))]\n",
    "    \n",
    "    categorical = ['PULocationID','DOLocationID']\n",
    "    df[categorical] = df[categorical].astype(str)\n",
    "\n",
    "    return df"
   ]
  },
  {
   "cell_type": "code",
   "execution_count": 24,
   "id": "f45c362f-4f06-4b16-9caa-ead343474e1a",
   "metadata": {},
   "outputs": [],
   "source": [
    "df_train = read_dataframe('green_tripdata/green_tripdata_2021-01.parquet')\n",
    "df_val = read_dataframe('green_tripdata/green_tripdata_2021-02.parquet')"
   ]
  },
  {
   "cell_type": "code",
   "execution_count": 25,
   "id": "e98ad356-e5ad-4ae4-94ab-b016fd27e48e",
   "metadata": {},
   "outputs": [
    {
     "data": {
      "text/plain": [
       "((73833, 21), (61889, 21))"
      ]
     },
     "execution_count": 25,
     "metadata": {},
     "output_type": "execute_result"
    }
   ],
   "source": [
    "df_train.shape, df_val.shape"
   ]
  },
  {
   "cell_type": "code",
   "execution_count": 26,
   "id": "832a73eb-b992-4093-aa7e-85f1b750bac2",
   "metadata": {},
   "outputs": [],
   "source": [
    "df_train['PU_DO'] = df_train['PULocationID'] + '_' + df_train['DOLocationID']\n",
    "df_val['PU_DO'] = df_val['PULocationID'] + '_'  +  df_val['DOLocationID']"
   ]
  },
  {
   "cell_type": "code",
   "execution_count": 27,
   "id": "1bc6c547-123b-44cc-b6ba-e97997edf205",
   "metadata": {},
   "outputs": [
    {
     "data": {
      "text/html": [
       "<div>\n",
       "<style scoped>\n",
       "    .dataframe tbody tr th:only-of-type {\n",
       "        vertical-align: middle;\n",
       "    }\n",
       "\n",
       "    .dataframe tbody tr th {\n",
       "        vertical-align: top;\n",
       "    }\n",
       "\n",
       "    .dataframe thead th {\n",
       "        text-align: right;\n",
       "    }\n",
       "</style>\n",
       "<table border=\"1\" class=\"dataframe\">\n",
       "  <thead>\n",
       "    <tr style=\"text-align: right;\">\n",
       "      <th></th>\n",
       "      <th>VendorID</th>\n",
       "      <th>lpep_pickup_datetime</th>\n",
       "      <th>lpep_dropoff_datetime</th>\n",
       "      <th>store_and_fwd_flag</th>\n",
       "      <th>RatecodeID</th>\n",
       "      <th>PULocationID</th>\n",
       "      <th>DOLocationID</th>\n",
       "      <th>passenger_count</th>\n",
       "      <th>trip_distance</th>\n",
       "      <th>fare_amount</th>\n",
       "      <th>...</th>\n",
       "      <th>tip_amount</th>\n",
       "      <th>tolls_amount</th>\n",
       "      <th>ehail_fee</th>\n",
       "      <th>improvement_surcharge</th>\n",
       "      <th>total_amount</th>\n",
       "      <th>payment_type</th>\n",
       "      <th>trip_type</th>\n",
       "      <th>congestion_surcharge</th>\n",
       "      <th>duration</th>\n",
       "      <th>PU_DO</th>\n",
       "    </tr>\n",
       "  </thead>\n",
       "  <tbody>\n",
       "    <tr>\n",
       "      <th>0</th>\n",
       "      <td>2</td>\n",
       "      <td>2021-01-01 00:15:56</td>\n",
       "      <td>2021-01-01 00:19:52</td>\n",
       "      <td>N</td>\n",
       "      <td>1.0</td>\n",
       "      <td>43</td>\n",
       "      <td>151</td>\n",
       "      <td>1.0</td>\n",
       "      <td>1.01</td>\n",
       "      <td>5.5</td>\n",
       "      <td>...</td>\n",
       "      <td>0.00</td>\n",
       "      <td>0.0</td>\n",
       "      <td>None</td>\n",
       "      <td>0.3</td>\n",
       "      <td>6.80</td>\n",
       "      <td>2.0</td>\n",
       "      <td>1.0</td>\n",
       "      <td>0.00</td>\n",
       "      <td>3.933333</td>\n",
       "      <td>43_151</td>\n",
       "    </tr>\n",
       "    <tr>\n",
       "      <th>1</th>\n",
       "      <td>2</td>\n",
       "      <td>2021-01-01 00:25:59</td>\n",
       "      <td>2021-01-01 00:34:44</td>\n",
       "      <td>N</td>\n",
       "      <td>1.0</td>\n",
       "      <td>166</td>\n",
       "      <td>239</td>\n",
       "      <td>1.0</td>\n",
       "      <td>2.53</td>\n",
       "      <td>10.0</td>\n",
       "      <td>...</td>\n",
       "      <td>2.81</td>\n",
       "      <td>0.0</td>\n",
       "      <td>None</td>\n",
       "      <td>0.3</td>\n",
       "      <td>16.86</td>\n",
       "      <td>1.0</td>\n",
       "      <td>1.0</td>\n",
       "      <td>2.75</td>\n",
       "      <td>8.750000</td>\n",
       "      <td>166_239</td>\n",
       "    </tr>\n",
       "    <tr>\n",
       "      <th>2</th>\n",
       "      <td>2</td>\n",
       "      <td>2021-01-01 00:45:57</td>\n",
       "      <td>2021-01-01 00:51:55</td>\n",
       "      <td>N</td>\n",
       "      <td>1.0</td>\n",
       "      <td>41</td>\n",
       "      <td>42</td>\n",
       "      <td>1.0</td>\n",
       "      <td>1.12</td>\n",
       "      <td>6.0</td>\n",
       "      <td>...</td>\n",
       "      <td>1.00</td>\n",
       "      <td>0.0</td>\n",
       "      <td>None</td>\n",
       "      <td>0.3</td>\n",
       "      <td>8.30</td>\n",
       "      <td>1.0</td>\n",
       "      <td>1.0</td>\n",
       "      <td>0.00</td>\n",
       "      <td>5.966667</td>\n",
       "      <td>41_42</td>\n",
       "    </tr>\n",
       "    <tr>\n",
       "      <th>3</th>\n",
       "      <td>2</td>\n",
       "      <td>2020-12-31 23:57:51</td>\n",
       "      <td>2021-01-01 00:04:56</td>\n",
       "      <td>N</td>\n",
       "      <td>1.0</td>\n",
       "      <td>168</td>\n",
       "      <td>75</td>\n",
       "      <td>1.0</td>\n",
       "      <td>1.99</td>\n",
       "      <td>8.0</td>\n",
       "      <td>...</td>\n",
       "      <td>0.00</td>\n",
       "      <td>0.0</td>\n",
       "      <td>None</td>\n",
       "      <td>0.3</td>\n",
       "      <td>9.30</td>\n",
       "      <td>2.0</td>\n",
       "      <td>1.0</td>\n",
       "      <td>0.00</td>\n",
       "      <td>7.083333</td>\n",
       "      <td>168_75</td>\n",
       "    </tr>\n",
       "    <tr>\n",
       "      <th>7</th>\n",
       "      <td>2</td>\n",
       "      <td>2021-01-01 00:26:31</td>\n",
       "      <td>2021-01-01 00:28:50</td>\n",
       "      <td>N</td>\n",
       "      <td>1.0</td>\n",
       "      <td>75</td>\n",
       "      <td>75</td>\n",
       "      <td>6.0</td>\n",
       "      <td>0.45</td>\n",
       "      <td>3.5</td>\n",
       "      <td>...</td>\n",
       "      <td>0.96</td>\n",
       "      <td>0.0</td>\n",
       "      <td>None</td>\n",
       "      <td>0.3</td>\n",
       "      <td>5.76</td>\n",
       "      <td>1.0</td>\n",
       "      <td>1.0</td>\n",
       "      <td>0.00</td>\n",
       "      <td>2.316667</td>\n",
       "      <td>75_75</td>\n",
       "    </tr>\n",
       "  </tbody>\n",
       "</table>\n",
       "<p>5 rows × 22 columns</p>\n",
       "</div>"
      ],
      "text/plain": [
       "   VendorID lpep_pickup_datetime lpep_dropoff_datetime store_and_fwd_flag  \\\n",
       "0         2  2021-01-01 00:15:56   2021-01-01 00:19:52                  N   \n",
       "1         2  2021-01-01 00:25:59   2021-01-01 00:34:44                  N   \n",
       "2         2  2021-01-01 00:45:57   2021-01-01 00:51:55                  N   \n",
       "3         2  2020-12-31 23:57:51   2021-01-01 00:04:56                  N   \n",
       "7         2  2021-01-01 00:26:31   2021-01-01 00:28:50                  N   \n",
       "\n",
       "   RatecodeID PULocationID DOLocationID  passenger_count  trip_distance  \\\n",
       "0         1.0           43          151              1.0           1.01   \n",
       "1         1.0          166          239              1.0           2.53   \n",
       "2         1.0           41           42              1.0           1.12   \n",
       "3         1.0          168           75              1.0           1.99   \n",
       "7         1.0           75           75              6.0           0.45   \n",
       "\n",
       "   fare_amount  ...  tip_amount  tolls_amount  ehail_fee  \\\n",
       "0          5.5  ...        0.00           0.0       None   \n",
       "1         10.0  ...        2.81           0.0       None   \n",
       "2          6.0  ...        1.00           0.0       None   \n",
       "3          8.0  ...        0.00           0.0       None   \n",
       "7          3.5  ...        0.96           0.0       None   \n",
       "\n",
       "   improvement_surcharge total_amount  payment_type  trip_type  \\\n",
       "0                    0.3         6.80           2.0        1.0   \n",
       "1                    0.3        16.86           1.0        1.0   \n",
       "2                    0.3         8.30           1.0        1.0   \n",
       "3                    0.3         9.30           2.0        1.0   \n",
       "7                    0.3         5.76           1.0        1.0   \n",
       "\n",
       "   congestion_surcharge  duration    PU_DO  \n",
       "0                  0.00  3.933333   43_151  \n",
       "1                  2.75  8.750000  166_239  \n",
       "2                  0.00  5.966667    41_42  \n",
       "3                  0.00  7.083333   168_75  \n",
       "7                  0.00  2.316667    75_75  \n",
       "\n",
       "[5 rows x 22 columns]"
      ]
     },
     "execution_count": 27,
     "metadata": {},
     "output_type": "execute_result"
    }
   ],
   "source": [
    "df_train.head()"
   ]
  },
  {
   "cell_type": "code",
   "execution_count": 28,
   "id": "5cf2a366-f8b0-49be-a0cb-e09c100ed9e9",
   "metadata": {},
   "outputs": [],
   "source": [
    "categorical = ['PU_DO']\n",
    "numerical = ['trip_distance']\n",
    "\n",
    "dv = DictVectorizer()\n",
    "\n",
    "train_dicts = df_train[categorical + numerical].to_dict(orient='records')\n",
    "val_dicts = df_val[categorical + numerical].to_dict(orient='records')\n",
    "\n",
    "X_train = dv.fit_transform(train_dicts)\n",
    "X_val = dv.transform(val_dicts)\n",
    "\n",
    "y_train = df_train['duration'].values\n",
    "y_val = df_val['duration'].values"
   ]
  },
  {
   "cell_type": "code",
   "execution_count": 29,
   "id": "ff139c16",
   "metadata": {},
   "outputs": [
    {
     "data": {
      "text/plain": [
       "(<Compressed Sparse Row sparse matrix of dtype 'float64'\n",
       " \twith 118522 stored elements and shape (61889, 13221)>,\n",
       " array([17.91666667,  6.5       , 15.25      , ..., 14.        ,\n",
       "         7.        ,  7.        ], shape=(61889,)))"
      ]
     },
     "execution_count": 29,
     "metadata": {},
     "output_type": "execute_result"
    }
   ],
   "source": [
    "X_train, y_train\n",
    "X_val, y_val"
   ]
  },
  {
   "cell_type": "code",
   "execution_count": 33,
   "id": "57dcb4d7",
   "metadata": {},
   "outputs": [],
   "source": [
    "from math import sqrt"
   ]
  },
  {
   "cell_type": "code",
   "execution_count": 36,
   "id": "16693df2-c751-4ebe-b12d-a5ace303f08c",
   "metadata": {},
   "outputs": [
    {
     "data": {
      "text/plain": [
       "7.756932266972238"
      ]
     },
     "execution_count": 36,
     "metadata": {},
     "output_type": "execute_result"
    }
   ],
   "source": [
    "lr = LinearRegression()\n",
    "lr.fit(X_train, y_train)\n",
    "\n",
    "y_pred = lr.predict(X_val)\n",
    "\n",
    "rmse_lr = sqrt(mean_squared_error(y_val, y_pred))\n",
    "rmse_lr"
   ]
  },
  {
   "cell_type": "code",
   "execution_count": 38,
   "id": "05c77e13",
   "metadata": {},
   "outputs": [],
   "source": [
    "with open('models/lin_reg.bin', 'wb') as f_out:\n",
    "    pickle.dump((dv, lr), f_out)"
   ]
  },
  {
   "cell_type": "code",
   "execution_count": 42,
   "id": "0009b346-d3bb-40d6-8d6a-a1b2235f0677",
   "metadata": {},
   "outputs": [],
   "source": [
    "with mlflow.start_run():\n",
    "    mlflow.set_tag(\"engineer\", \"richkinwe\")\n",
    "\n",
    "    mlflow.log_param(\"train_data_path\", \"green_tripdata/green_tripdata_2021-01.parquet\")\n",
    "    mlflow.log_param(\"val_data_path\", \"green_tripdata/green_tripdata_2021-02.parquet\")\n",
    "\n",
    "    alpha = 0.00001\n",
    "    mlflow.log_param(\"alpha\", alpha)\n",
    "    ls = Lasso(alpha)\n",
    "    ls.fit(X_train, y_train)\n",
    "\n",
    "    y_pred = ls.predict(X_val)\n",
    "\n",
    "    rmse_ls = sqrt(mean_squared_error(y_val, y_pred))\n",
    "    mlflow.log_metric(\"rmse\", rmse_ls)"
   ]
  },
  {
   "cell_type": "code",
   "execution_count": null,
   "id": "cdcbd644",
   "metadata": {},
   "outputs": [],
   "source": [
    "import xgboost as xgb\n",
    "from hyperopt import fmin, tpe, hp, STATUS_OK, Trials\n",
    "from hyperopt.pyll import scope"
   ]
  },
  {
   "cell_type": "code",
   "execution_count": null,
   "id": "7cf2b214",
   "metadata": {},
   "outputs": [],
   "source": [
    "train = xgb.DMatrix(X_train, label=y_train)\n",
    "val = xgb.DMatrix(X_val, label=y_val)"
   ]
  },
  {
   "cell_type": "code",
   "execution_count": null,
   "id": "bb71430e",
   "metadata": {},
   "outputs": [],
   "source": [
    "def objective(params):\n",
    "    with mlflow.start_run():\n",
    "        mlflow.set_tag(\"engineer\", \"richkinwe\")\n",
    "        mlflow.log_param(\"train_data_path\", \"green_tripdata/green_tripdata_2021-01.parquet\")\n",
    "        mlflow.log_param(\"val_data_path\", \"green_tripdata/green_tripdata_2021-02.parquet\")\n",
    "        mlflow.set_tag(\"model\", \"xgboost\")\n",
    "        mlflow.log_params(params)\n",
    "        booster = xgb.train(\n",
    "            params=params,\n",
    "            dtrain=train,\n",
    "            num_boost_round=1000,\n",
    "            evals=[(val, 'validation')],\n",
    "            early_stopping_rounds=50\n",
    "        )\n",
    "        y_pred = booster.predict(val)\n",
    "        rmse = sqrt(mean_squared_error(y_val, y_pred))\n",
    "        mlflow.log_metric(\"rmse\", rmse)\n",
    "\n",
    "    return {'loss': rmse, 'status': STATUS_OK}"
   ]
  },
  {
   "cell_type": "code",
   "execution_count": null,
   "id": "c53ecdb9",
   "metadata": {},
   "outputs": [],
   "source": [
    "search_space = {\n",
    "    'max_depth': scope.int(hp.quniform('max_depth', 4, 100, 1)),\n",
    "    'learning_rate': hp.loguniform('learning_rate', -3, 0),\n",
    "    'reg_alpha': hp.loguniform('reg_alpha', -5, -1),\n",
    "    'reg_lambda': hp.loguniform('reg_lambda', -6, -1),\n",
    "    'min_child_weight': hp.loguniform('min_child_weight', -1, 3),\n",
    "    'objective': 'reg:linear',\n",
    "    'seed': 42\n",
    "}\n",
    "\n",
    "best_result = fmin(\n",
    "    fn=objective,\n",
    "    space=search_space,\n",
    "    algo=tpe.suggest,\n",
    "    max_evals=50,\n",
    "    trials=Trials()\n",
    ")"
   ]
  }
 ],
 "metadata": {
  "kernelspec": {
   "display_name": "Experiment-tracking (mlflow-env)",
   "language": "python",
   "name": "mlflow-env"
  },
  "language_info": {
   "codemirror_mode": {
    "name": "ipython",
    "version": 3
   },
   "file_extension": ".py",
   "mimetype": "text/x-python",
   "name": "python",
   "nbconvert_exporter": "python",
   "pygments_lexer": "ipython3",
   "version": "3.13.2"
  }
 },
 "nbformat": 4,
 "nbformat_minor": 5
}
